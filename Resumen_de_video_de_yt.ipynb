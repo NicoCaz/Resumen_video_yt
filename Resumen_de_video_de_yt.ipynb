{
  "nbformat": 4,
  "nbformat_minor": 0,
  "metadata": {
    "colab": {
      "provenance": [],
      "authorship_tag": "ABX9TyOV1vs4L/hXuzbo49cXPHWE",
      "include_colab_link": true
    },
    "kernelspec": {
      "name": "python3",
      "display_name": "Python 3"
    },
    "language_info": {
      "name": "python"
    },
    "accelerator": "GPU",
    "gpuClass": "standard"
  },
  "cells": [
    {
      "cell_type": "markdown",
      "metadata": {
        "id": "view-in-github",
        "colab_type": "text"
      },
      "source": [
        "<a href=\"https://colab.research.google.com/github/NicoCaz/Resumen_video_yt/blob/main/Resumen_de_video_de_yt.ipynb\" target=\"_parent\"><img src=\"https://colab.research.google.com/assets/colab-badge.svg\" alt=\"Open In Colab\"/></a>"
      ]
    },
    {
      "cell_type": "code",
      "execution_count": null,
      "metadata": {
        "id": "rkSxK6139QaP"
      },
      "outputs": [],
      "source": [
        "!pip install git+https://github.com/openai/whisper.git\n",
        "!pip install pytube\n",
        "!sudo apt-get remove -y youtube-dl\n",
        "!sudo apt update && sudo apt install ffmpeg"
      ]
    },
    {
      "cell_type": "code",
      "source": [
        "import os\n",
        "from pytube import YouTube\n",
        "\n",
        "#Cambia el link que quieras\n",
        "LINK = \"https://www.youtube.com/watch?v=vQVKG9nioAg&list=PLDnCB4ejta7XXjx7GSZ2NWQsBUxUttS78&index=1&t=1731s&ab_channel=PaulaBonifaziAquino\"\n",
        "\n",
        "# Obtener objeto YouTube\n",
        "yt = YouTube(LINK)\n",
        "\n",
        "# Obtener objeto Stream de audio\n",
        "audio_stream = yt.streams.filter(only_audio=True).first()\n",
        "\n",
        "# Descargar archivo de audio en una ubicación temporal\n",
        "temp_file_path = audio_stream.download()\n",
        "\n",
        "# Renombrar archivo a \"audio.mp3\" y mover a la carpeta actual\n",
        "os.rename(temp_file_path, os.path.join(os.getcwd(), \"audio.mp3\"))\n"
      ],
      "metadata": {
        "id": "BaBmSM8KAj7p"
      },
      "execution_count": null,
      "outputs": []
    },
    {
      "cell_type": "code",
      "source": [
        "import whisper\n",
        "model = whisper.load_model(\"base\")\n",
        "result = model.transcribe(\"audio.mp3\")"
      ],
      "metadata": {
        "id": "BPVV8FNIfFaH"
      },
      "execution_count": null,
      "outputs": []
    },
    {
      "cell_type": "code",
      "source": [
        "nombre_archivo = \"texto_original.txt\"\n",
        "\n",
        "with open(nombre_archivo, \"w\") as archivo:\n",
        "    archivo.write(result[\"text\"])\n",
        "\n",
        "# Cerrar el archivo\n",
        "archivo.close()"
      ],
      "metadata": {
        "id": "i6RKnwL8gbAN"
      },
      "execution_count": 10,
      "outputs": []
    },
    {
      "cell_type": "code",
      "source": [
        "!pip install beautifulsoup4\n",
        "!pip install urllib3\n",
        "!pip install nltk\n",
        "!python -m nltk.downloader punkt\n",
        "!python -m nltk.downloader stopwords"
      ],
      "metadata": {
        "id": "1Siu_kLci2qm"
      },
      "execution_count": null,
      "outputs": []
    },
    {
      "cell_type": "code",
      "source": [
        "import bs4 as bs  \n",
        "import urllib.request  \n",
        "import re\n",
        "import nltk\n",
        "from nltk import word_tokenize,sent_tokenize\n",
        "import heapq  \n"
      ],
      "metadata": {
        "id": "TiQKxRbWmUNa"
      },
      "execution_count": 25,
      "outputs": []
    },
    {
      "cell_type": "code",
      "source": [
        "\n",
        "# Tamaño del resumen, cuando mas grande el numero mas extenso el resumen\n",
        "tamanio_resumen = 150\n",
        "\n",
        "# Función para formatear el artículo\n",
        "def formatear_articulo(texto):\n",
        "    texto_formateado = re.sub('[^a-zA-Z]', ' ', texto)\n",
        "    texto_formateado = re.sub(r'\\s+', ' ', texto_formateado)\n",
        "    return texto_formateado\n",
        "\n",
        "# Función para calcular la frecuencia de palabras\n",
        "def calcular_frecuencia_palabras(texto_formateado):\n",
        "    palabras = nltk.word_tokenize(texto_formateado.lower())\n",
        "    stopwords = nltk.corpus.stopwords.words('spanish')\n",
        "    frecuencia_palabras = {word: palabras.count(word) for word in palabras if word not in stopwords}\n",
        "    return frecuencia_palabras\n",
        "\n",
        "# Función para obtener las oraciones\n",
        "def obtener_oraciones(texto):\n",
        "    return nltk.sent_tokenize(texto)\n",
        "\n",
        "# Función para calcular la frecuencia de las oraciones\n",
        "def calcular_frecuencia_oraciones(oraciones, frecuencia_palabras):\n",
        "    max_oracion = {}\n",
        "    for sent in oraciones:\n",
        "        for word in nltk.word_tokenize(sent.lower()):\n",
        "            if word in frecuencia_palabras.keys():\n",
        "                if len(sent.split(' ')) < tamanio_resumen:\n",
        "                    if sent not in max_oracion.keys():\n",
        "                        max_oracion[sent] = frecuencia_palabras[word]\n",
        "                    else:\n",
        "                        max_oracion[sent] += frecuencia_palabras[word]\n",
        "    return max_oracion\n",
        "\n",
        "# Función para generar el resumen\n",
        "def generar_resumen(texto):\n",
        "    texto_formateado = formatear_articulo(texto)\n",
        "    frecuencia_palabras = calcular_frecuencia_palabras(texto_formateado)\n",
        "    oraciones = obtener_oraciones(texto)\n",
        "    max_oracion = calcular_frecuencia_oraciones(oraciones, frecuencia_palabras)\n",
        "    resumen_oracion = heapq.nlargest(7, max_oracion, key=max_oracion.get)\n",
        "    resumen = ' '.join(resumen_oracion)\n",
        "    return resumen\n",
        "\n",
        "\n",
        "resumen = generar_resumen(result[\"text\"])\n",
        "print(resumen)\n",
        "\n",
        "\n",
        "nombre_archivo = \"salida.txt\"\n",
        "\n",
        "with open(nombre_archivo, \"w\") as archivo:\n",
        "    archivo.write(resumen)\n",
        "\n",
        "# Cerrar el archivo\n",
        "archivo.close()\n",
        "\n",
        "\n",
        "\n"
      ],
      "metadata": {
        "colab": {
          "base_uri": "https://localhost:8080/"
        },
        "id": "8k2Rp22qvUG6",
        "outputId": "fc317628-5cd1-402f-b63d-acd598713ec7"
      },
      "execution_count": 26,
      "outputs": [
        {
          "output_type": "stream",
          "name": "stdout",
          "text": [
            "En la otra punta voy a tener un vas de direcciones relativamente chico, porque solamente tengo que direccionar a 6 valores distintos a 6 celdas, pero mi vas de datos va a ser de 16 bit porque tengo celdas de 16, y la que dijimos que era un vas de datos, era un conjunto de cables por donde circula en cada cable un bit, cada uno de 16 cables va a estar conectado a cada uno de estos bit de mi celda. Y una unidad de control que se encarga de manejar, administrar, usar, indicar qué cosas tienen que hacer la ALU, qué tienen que hacer los registros, si guardar un valor, si entregar ese valor, y cómo se direcciónas, cómo se selecciona el dispositivo en donde se va a guardar un determinado valor o recuperar un determinado valor. porque la unidad de decodificación le dijo mira, esta haciendo referencia a la variable X y a la variable Z y esa está en tal posición de memoria, etcétera, bueno, la unidad número tres, entonces va a ir a direccionar, va a poder acceder a la memoria a buscar esos datos. Cuando yo van de a la alu, a la unidad arimetielo, a hacer una operación arimetiel, por ejemplo sumar la entrada A con la entrada B, entonces va a tener valores estable, valores costantes ese 5 y ese 1 en la otra rama y va a poder producir una salida que es la suma del 5 más 1, 6. Entonces obtendré que darle las órdenes a ese nivel de microcódigo, de micro arquitectura, el nivel número 1, no el de la lógica digital, sino el nivel número 1, diciendo que en tal posición de la memoria principal almacenar tal valor y por este vas correrán por un lado a través del vas de datos, el valor que se va a almacenar y por el otro lado por el vas de direcciones se va a setear la dirección, la celda de memoria que yo voy a impactar, que voy a modificar, que voy a pasar con el nuevo valor. En el conjunto de registros que estaba dentro de mi CPU voy a tener un valor en un registro valorado y en un rejisto valorado, y voy a poder sacar ese valorado a través de la rama izquierda, En el conjunto de registros que estaba dentro de mi CPU voy a tener un valor en un registro valorado y en un rejisto valorado, y voy a poder sacar ese valorado a través de la rama izquierda, lo voy a dejar acá para que me presente a la entrada izquierda de la alu un valor estable, o sea acá lo copio, el valor que por ejemplo 5 lo copio de estos registros, de forma tal que la alu tenga en su entrada siempre el valor 5 para que pueda hacer las cuentas. una vez que la terminó de procesar en el siguiente instante se la pasa a la unidad número dos a la estación de trabajo número dos, que es encarga de decodificarla, que es decodificarla y agarrar todos los bit que conforman esa sentencia y decir bueno, esto es una operación de tipo suma, una vez que la terminó de procesar en el siguiente instante se la pasa a la unidad número dos a la estación de trabajo número dos, que es encarga de decodificarla, que es decodificarla y agarrar todos los bit que conforman esa sentencia y decir bueno, esto es una operación de tipo suma, este es la referencia lo operando a, esta es la referencia lo operando B, ok, ya sé que es lo que voy a hacer, pero yo no lo voy a hacer, lo va a hacer otros unidades.\n"
          ]
        }
      ]
    }
  ]
}